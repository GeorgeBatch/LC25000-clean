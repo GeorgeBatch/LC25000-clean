{
 "cells": [
  {
   "cell_type": "markdown",
   "metadata": {},
   "source": [
    "# Set-up"
   ]
  },
  {
   "cell_type": "markdown",
   "metadata": {},
   "source": [
    "## Imports"
   ]
  },
  {
   "cell_type": "code",
   "execution_count": null,
   "metadata": {},
   "outputs": [],
   "source": [
    "import os\n",
    "import json\n",
    "\n",
    "import numpy as np\n",
    "import matplotlib.pyplot as plt\n"
   ]
  },
  {
   "cell_type": "code",
   "execution_count": null,
   "metadata": {
    "ExecuteTime": {
     "end_time": "2024-06-06T19:15:19.702789Z",
     "start_time": "2024-06-06T19:15:19.691177Z"
    }
   },
   "outputs": [],
   "source": [
    "from source.constants import DATA_DIR, FEATURE_VECTORS_SAVE_DIR, ANNOTATIONS_SAVE_DIR\n",
    "from source.constants import ALL_CANCER_TYPES, ALL_IMG_NORMS, ALL_EXTRACTOR_MODELS, ALL_DIMENSIONALITY_REDUCTION_METHODS, ALL_CLUSTERING_ALGORITHMS, ALL_DISTANCE_METRICS\n",
    "\n",
    "print(f\"DATA_DIR: {DATA_DIR}\")\n",
    "print(f\"FEATURE_VECTORS_SAVE_DIR: {FEATURE_VECTORS_SAVE_DIR}\")\n",
    "print(f\"ANNOTATIONS_SAVE_DIR: {ANNOTATIONS_SAVE_DIR}\")\n",
    "\n",
    "print(\"ALL_CANCER_TYPES:\", ALL_CANCER_TYPES)\n",
    "print(\"ALL_EXTRACTOR_MODELS:\", ALL_EXTRACTOR_MODELS)\n",
    "print(\"ALL_IMG_NORMS:\", ALL_IMG_NORMS)\n",
    "print(\"ALL_DIMENSIONALITY_REDUCTION_METHODS:\", ALL_DIMENSIONALITY_REDUCTION_METHODS)\n",
    "print(\"ALL_CLUSTERING_ALGORITHMS:\", ALL_CLUSTERING_ALGORITHMS)\n",
    "print(\"ALL_DISTANCE_METRICS:\", ALL_DISTANCE_METRICS)"
   ]
  },
  {
   "cell_type": "code",
   "execution_count": null,
   "metadata": {},
   "outputs": [],
   "source": [
    "from source.eval_utils import precision_at_1, precision_at_k\n",
    "from source.eval_utils import reduce_feature_dimensionality, get_clustering_labels, compute_clustering_metrics"
   ]
  },
  {
   "cell_type": "code",
   "execution_count": null,
   "metadata": {},
   "outputs": [],
   "source": [
    "from evaluate_clustering import get_true_connectivity, get_predicted_connectivity"
   ]
  },
  {
   "cell_type": "code",
   "execution_count": null,
   "metadata": {},
   "outputs": [],
   "source": [
    "%load_ext autoreload\n",
    "%autoreload 2"
   ]
  },
  {
   "cell_type": "markdown",
   "metadata": {},
   "source": [
    "## Notebook Constants"
   ]
  },
  {
   "cell_type": "code",
   "execution_count": null,
   "metadata": {},
   "outputs": [],
   "source": [
    "# TODO: Set the constants for the evaluation\n",
    "CANCER_TYPE = 'lung_aca'\n",
    "EXTRACTOR_NAME = 'UNI'\n",
    "IMG_NORM = 'resize_only'\n",
    "DISTANCE_METRIC = 'cosine'\n",
    "DIMENSIONALITY_REDUCTION_METHOD = 'UMAP-2'\n",
    "CLUSTERING_ALGORITHM = 'kmeans'\n",
    "\n",
    "assert CANCER_TYPE in ALL_CANCER_TYPES\n",
    "assert EXTRACTOR_NAME in ALL_EXTRACTOR_MODELS\n",
    "assert IMG_NORM in ALL_IMG_NORMS\n",
    "assert CLUSTERING_ALGORITHM in ALL_CLUSTERING_ALGORITHMS\n",
    "assert DIMENSIONALITY_REDUCTION_METHOD in ALL_DIMENSIONALITY_REDUCTION_METHODS\n",
    "assert DISTANCE_METRIC in ALL_DISTANCE_METRICS"
   ]
  },
  {
   "cell_type": "code",
   "execution_count": null,
   "metadata": {},
   "outputs": [],
   "source": [
    "# expected to already be there\n",
    "features_npy_path = f'{FEATURE_VECTORS_SAVE_DIR}/{CANCER_TYPE}/{EXTRACTOR_NAME}/{IMG_NORM}/features.npy'\n",
    "ids_2_imgpaths_json_path = f'{FEATURE_VECTORS_SAVE_DIR}/{CANCER_TYPE}/{EXTRACTOR_NAME}/{IMG_NORM}/ids_2_img_paths.json'\n",
    "assert os.path.isfile(features_npy_path)\n",
    "assert os.path.isfile(ids_2_imgpaths_json_path)"
   ]
  },
  {
   "cell_type": "code",
   "execution_count": null,
   "metadata": {},
   "outputs": [],
   "source": [
    "# load saved manual annotations\n",
    "manual_annotations_dir = os.path.join(ANNOTATIONS_SAVE_DIR, CANCER_TYPE, 'UNI', 'resize_only')\n",
    "assert os.path.isdir(manual_annotations_dir)\n",
    "\n",
    "# print the contents of the results directory\n",
    "print(\"Manual annotations directory\", manual_annotations_dir)\n",
    "print(\"Manual annotations directory contents:\\n\", os.listdir(manual_annotations_dir))"
   ]
  },
  {
   "cell_type": "code",
   "execution_count": null,
   "metadata": {},
   "outputs": [],
   "source": [
    "features = np.load(features_npy_path)\n",
    "\n",
    "if DISTANCE_METRIC == 'cosine':\n",
    "    # normalise the features to have euclidian distance and cosine similarity being monotonically related\n",
    "    features = features / np.linalg.norm(features, axis=1,  keepdims=True)\n",
    "\n",
    "# Load image paths\n",
    "with open(ids_2_imgpaths_json_path, 'r') as f:\n",
    "    ids_2_imgpaths = json.load(f)\n",
    "print(ids_2_imgpaths)\n",
    "\n",
    "# check that the values are unique, this will allow bijective mapping\n",
    "assert len(set(ids_2_imgpaths.values())) == len(ids_2_imgpaths.values())\n",
    "imgpaths_2_intids = {v: int(k) for k, v in ids_2_imgpaths.items()}\n",
    "print(imgpaths_2_intids)"
   ]
  },
  {
   "cell_type": "markdown",
   "metadata": {},
   "source": [
    "## True Clustering"
   ]
  },
  {
   "cell_type": "code",
   "execution_count": null,
   "metadata": {},
   "outputs": [],
   "source": [
    "true_connectivity_matrix, true_connectivity_vector, true_cluster_labels, num_true_clusters = get_true_connectivity(\n",
    "    manual_annotations_dir,\n",
    "    ids_2_imgpaths\n",
    ")\n",
    "\n",
    "print(\"Num true clusters:\", num_true_clusters)\n",
    "print(\"Total num images in all clusters:\", len(true_cluster_labels))"
   ]
  },
  {
   "cell_type": "markdown",
   "metadata": {},
   "source": [
    "# Dimensionality Reduction"
   ]
  },
  {
   "cell_type": "code",
   "execution_count": null,
   "metadata": {},
   "outputs": [],
   "source": [
    "print(DIMENSIONALITY_REDUCTION_METHOD)"
   ]
  },
  {
   "cell_type": "code",
   "execution_count": null,
   "metadata": {},
   "outputs": [],
   "source": [
    "features_reduced = reduce_feature_dimensionality(features, method=DIMENSIONALITY_REDUCTION_METHOD)\n",
    "print(features_reduced.shape)"
   ]
  },
  {
   "cell_type": "markdown",
   "metadata": {},
   "source": [
    "# Precision@1, Precision@5 - use euclidean distance because already normalized before and did dimensionality reduction"
   ]
  },
  {
   "cell_type": "code",
   "execution_count": null,
   "metadata": {},
   "outputs": [],
   "source": [
    "precision_at_1_value = precision_at_1(features_reduced, true_connectivity_matrix, metric='euclidean')\n",
    "precision_at_5_value = precision_at_k(features_reduced, true_connectivity_matrix, k=5, metric='euclidean')\n",
    "\n",
    "print(\"precision@1:\", precision_at_1_value)\n",
    "print(\"precision@5:\", precision_at_5_value)"
   ]
  },
  {
   "cell_type": "code",
   "execution_count": null,
   "metadata": {},
   "outputs": [],
   "source": [
    "from pytorch_metric_learning.utils.accuracy_calculator import AccuracyCalculator\n",
    "\n",
    "accuracy_calculator = AccuracyCalculator()\n",
    "accuracy_dict = accuracy_calculator.get_accuracy(\n",
    "    query=features_reduced,\n",
    "    query_labels=true_cluster_labels\n",
    ")\n",
    "\n",
    "precision_at_1_value, accuracy_dict['precision_at_1']"
   ]
  },
  {
   "cell_type": "markdown",
   "metadata": {},
   "source": [
    "# Unsupervised Clustering"
   ]
  },
  {
   "cell_type": "code",
   "execution_count": null,
   "metadata": {},
   "outputs": [],
   "source": [
    "print(\"Clustering algorithm:\", CLUSTERING_ALGORITHM)"
   ]
  },
  {
   "cell_type": "code",
   "execution_count": null,
   "metadata": {},
   "outputs": [],
   "source": [
    "predicted_cluster_labels = get_clustering_labels(\n",
    "    features=features_reduced,\n",
    "    n_clusters=num_true_clusters,\n",
    "    method=CLUSTERING_ALGORITHM\n",
    ")\n",
    "\n",
    "# plot distribution of predicted cluster labels, should be close to uniform with 5000 / 250 = 20 images per cluster\n",
    "counts, bins = np.histogram(predicted_cluster_labels, bins=num_true_clusters)\n",
    "plt.hist(bins[:-1], bins, weights=counts)\n",
    "plt.show()"
   ]
  },
  {
   "cell_type": "code",
   "execution_count": null,
   "metadata": {},
   "outputs": [],
   "source": [
    "# plot how many times the size of the cluster appears; should center around 20\n",
    "plt.hist(counts, bins=np.unique(counts))"
   ]
  },
  {
   "cell_type": "code",
   "execution_count": null,
   "metadata": {},
   "outputs": [],
   "source": [
    "predicted_connectivity_vector = get_predicted_connectivity(\n",
    "    predicted_cluster_labels,\n",
    "    ids_2_imgpaths\n",
    ")\n",
    "\n",
    "assert predicted_connectivity_vector.shape == true_connectivity_vector.shape\n",
    "print(\"True connectivity vector shape:\", true_connectivity_vector.shape)"
   ]
  },
  {
   "cell_type": "markdown",
   "metadata": {},
   "source": [
    "## Evaluation"
   ]
  },
  {
   "cell_type": "code",
   "execution_count": null,
   "metadata": {},
   "outputs": [],
   "source": [
    "print(f\"{EXTRACTOR_NAME}#{IMG_NORM}#{DISTANCE_METRIC}#{DIMENSIONALITY_REDUCTION_METHOD}#{CLUSTERING_ALGORITHM}\")\n",
    "\n",
    "print(\"\\n```\")\n",
    "# Compute metrics\n",
    "metrics = compute_clustering_metrics(\n",
    "    true_connectivity_vector, predicted_connectivity_vector, true_cluster_labels, predicted_cluster_labels)\n",
    "metrics['precision@1'] = precision_at_1_value\n",
    "metrics['precision@5'] = precision_at_5_value\n",
    "\n",
    "for metric, value in metrics.items():\n",
    "    if isinstance(value, int):\n",
    "        print(f\"{metric}: {value}\")\n",
    "    elif isinstance(value, float):\n",
    "        print(f\"{metric}: {value:.4f}\")\n",
    "    else:\n",
    "        print(f\"{metric}:\\n {value}\")\n",
    "print(\"```\")"
   ]
  },
  {
   "cell_type": "code",
   "execution_count": null,
   "metadata": {},
   "outputs": [],
   "source": []
  }
 ],
 "metadata": {
  "kernelspec": {
   "display_name": "lc25k-cleaning",
   "language": "python",
   "name": "python3"
  },
  "language_info": {
   "codemirror_mode": {
    "name": "ipython",
    "version": 3
   },
   "file_extension": ".py",
   "mimetype": "text/x-python",
   "name": "python",
   "nbconvert_exporter": "python",
   "pygments_lexer": "ipython3",
   "version": "3.11.9"
  }
 },
 "nbformat": 4,
 "nbformat_minor": 2
}
