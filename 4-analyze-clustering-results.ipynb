{
 "cells": [
  {
   "cell_type": "markdown",
   "metadata": {},
   "source": [
    "# Imports"
   ]
  },
  {
   "cell_type": "code",
   "execution_count": null,
   "metadata": {},
   "outputs": [],
   "source": [
    "import math\n",
    "\n",
    "import numpy as np\n",
    "\n",
    "import pandas as pd\n",
    "from pandas.plotting import parallel_coordinates\n",
    "\n",
    "import matplotlib.pyplot as plt\n",
    "import seaborn as sns"
   ]
  },
  {
   "cell_type": "code",
   "execution_count": null,
   "metadata": {},
   "outputs": [],
   "source": [
    "from source.constants import (\n",
    "    ALL_EXTRACTOR_MODELS,\n",
    "    ALL_IMG_NORMS,\n",
    "    ALL_DISTANCE_METRICS,\n",
    "    ALL_DIMENSIONALITY_REDUCTION_METHODS,\n",
    "    ALL_CLUSTERING_ALGORITHMS\n",
    ")\n",
    "from source.constants import ORIGINAL_2_PRETTY_MODEL_NAMES"
   ]
  },
  {
   "cell_type": "code",
   "execution_count": null,
   "metadata": {},
   "outputs": [],
   "source": [
    "CANCER_TYPE = 'lung_aca'\n",
    "OPTIMIZING_METRIC = 'Fowlkes-Mallows Index'"
   ]
  },
  {
   "cell_type": "markdown",
   "metadata": {},
   "source": [
    "# Load DataFrame"
   ]
  },
  {
   "cell_type": "code",
   "execution_count": null,
   "metadata": {},
   "outputs": [],
   "source": [
    "results_df = pd.read_csv(\n",
    "    f\"eval_results/cancer_type={CANCER_TYPE}#extractor_name=all#img_norm=all#distance_metric=all#dimensionality_reduction=all#clustering=all.csv\")\n",
    "info_column_2_options = {\n",
    "    'extractor_name': ALL_EXTRACTOR_MODELS,\n",
    "    'img_norm': list(ALL_IMG_NORMS),\n",
    "    'distance_metric': ALL_DISTANCE_METRICS,\n",
    "    'dimensionality_reduction': ALL_DIMENSIONALITY_REDUCTION_METHODS,\n",
    "    'clustering': ALL_CLUSTERING_ALGORITHMS,\n",
    "}\n",
    "info_columns = list(info_column_2_options.keys())\n",
    "\n",
    "results_df[info_columns] = results_df['Unnamed: 0'].str.split(\"#\", expand=True)\n",
    "results_df.drop(columns=['Unnamed: 0'], inplace=True)\n",
    "\n",
    "\n",
    "original_2_shorter_metric_names = {\n",
    "    'Adjusted Rand Index (ARI)': 'Adjusted Rand Index',\n",
    "    'Normalized Mutual Information (NMI)': 'Normalized Mutual Info',\n",
    "}\n",
    "results_df = results_df.rename(columns=original_2_shorter_metric_names)\n",
    "\n",
    "conf_matrix_columns = [\"TP\", \"FP\", \"FN\", \"TN\"]\n",
    "# precision_colomns = [\"precision@1\", \"precision@5\"]\n",
    "metrics_columns = [\n",
    "    col for col in results_df.columns \n",
    "    if col not in set(info_columns).union(set(conf_matrix_columns))#.union(set(precision_colomns))\n",
    "]\n",
    "metric_columns_wo_precision = [\n",
    "    col for col in metrics_columns\n",
    "    if 'precision' not in col\n",
    "]\n",
    "\n",
    "# reorder columns\n",
    "results_df = results_df[\n",
    "    info_columns \\\n",
    "    + conf_matrix_columns \\\n",
    "    + metrics_columns\n",
    "    # + precision_colomns\n",
    "]\n",
    "# drop rows with 'resize_only_original' img_norm\n",
    "results_df = results_df[results_df['img_norm'] !=\n",
    "                        'resize_only_original'].reset_index(drop=True)\n",
    "for col in info_columns:\n",
    "    assert set(results_df[col].unique()).issubset(\n",
    "        set(info_column_2_options[col]))\n",
    "    print(f\"{col}: {results_df[col].value_counts()}\")\n",
    "\n",
    "# sort by optimizing metric\n",
    "results_df.sort_values(by=[OPTIMIZING_METRIC], ascending=False, inplace=True)\n",
    "results_df.reset_index(drop=True, inplace=True)\n",
    "\n",
    "results_df"
   ]
  },
  {
   "cell_type": "code",
   "execution_count": null,
   "metadata": {},
   "outputs": [],
   "source": [
    "results_df.img_norm.unique()"
   ]
  },
  {
   "cell_type": "code",
   "execution_count": null,
   "metadata": {},
   "outputs": [],
   "source": [
    "original_2_pretty_normalization_names = {\n",
    "    # 'imagenet': 'ImageNet',\n",
    "    # 'resize_only': 'resize',\n",
    "    'lc25k-lung_aca-resized': 'lung_aca'\n",
    "}\n",
    "\n",
    "results_df['extractor_name'] = results_df['extractor_name'].replace(\n",
    "    ORIGINAL_2_PRETTY_MODEL_NAMES)\n",
    "results_df['img_norm'] = results_df['img_norm'].replace(original_2_pretty_normalization_names)\n",
    "\n",
    "results_df"
   ]
  },
  {
   "cell_type": "code",
   "execution_count": null,
   "metadata": {},
   "outputs": [],
   "source": [
    "best_performance_df = results_df.loc[results_df.groupby('extractor_name')[OPTIMIZING_METRIC].idxmax()]\n",
    "\n",
    "# Reset index for better readability\n",
    "best_performance_df.sort_values(by=[OPTIMIZING_METRIC], ascending=False, inplace=True, ignore_index=True)\n",
    "\n",
    "# Display the best performance dataframe\n",
    "display(best_performance_df)"
   ]
  },
  {
   "cell_type": "code",
   "execution_count": null,
   "metadata": {},
   "outputs": [],
   "source": [
    "col_2_default_value = {}\n",
    "for col in info_columns:\n",
    "    default_value = results_df.iloc[0][col]\n",
    "    col_2_default_value[col] = default_value\n",
    "col_2_default_value"
   ]
  },
  {
   "cell_type": "code",
   "execution_count": null,
   "metadata": {},
   "outputs": [],
   "source": [
    "standard_subset = \\\n",
    "    (results_df['distance_metric'] == col_2_default_value['distance_metric']) &  \\\n",
    "    (results_df['dimensionality_reduction'] == col_2_default_value['dimensionality_reduction']) & \\\n",
    "    (results_df['clustering'] == col_2_default_value['clustering'])\n",
    "\n",
    "standard_subset_df = results_df[standard_subset].sort_values(by=[OPTIMIZING_METRIC], ascending=False, ignore_index=True)\n",
    "standard_subset_df"
   ]
  },
  {
   "cell_type": "code",
   "execution_count": null,
   "metadata": {},
   "outputs": [],
   "source": [
    "basic_subset = \\\n",
    "    (results_df['distance_metric'] == \"euclidean\") &  \\\n",
    "    (results_df['dimensionality_reduction'] == \"NoReduction\") & \\\n",
    "    (results_df['clustering'] == \"kmeans\")\n",
    "\n",
    "basic_subset_df = results_df[basic_subset].sort_values(by=[OPTIMIZING_METRIC], ascending=False, ignore_index=True)\n",
    "basic_subset_df"
   ]
  },
  {
   "cell_type": "markdown",
   "metadata": {},
   "source": [
    "## Plotting functions"
   ]
  },
  {
   "cell_type": "code",
   "execution_count": null,
   "metadata": {},
   "outputs": [],
   "source": [
    "def plot_precision_bar_chart(df, title=\"\"):\n",
    "    plt.figure(figsize=(6, 3))\n",
    "    # Setting the positions and width for the bars\n",
    "    positions = np.arange(\n",
    "        len(df['extractor_name']))\n",
    "    width = 0.4\n",
    "\n",
    "    # Plotting both the precision@1 and precision@5\n",
    "    plt.bar(positions - width/2, df['precision@1'],\n",
    "            width=width, label='Precision@1')\n",
    "    plt.bar(positions + width/2, df['precision@5'],\n",
    "            width=width, label='Precision@5')\n",
    "\n",
    "    # Adding some labels and title\n",
    "    plt.xlabel('Feature Extractor')\n",
    "    plt.ylabel('Precision')\n",
    "    plt.ylim(0.85, 1.01)\n",
    "    plt.title(title)\n",
    "    plt.xticks(positions, df['extractor_name'], rotation=30, ha='right')\n",
    "\n",
    "    # Adding a legend\n",
    "    plt.legend(loc='lower left')\n",
    "\n",
    "    # Show the plot\n",
    "    plt.show()"
   ]
  },
  {
   "cell_type": "code",
   "execution_count": null,
   "metadata": {},
   "outputs": [],
   "source": [
    "def create_radar_chart(df, metrics, title=\"\", baseline=0.5):\n",
    "    categories = metrics\n",
    "    num_vars = len(categories)\n",
    "\n",
    "    colors = plt.cm.Set1(np.linspace(0, 1, math.ceil(num_vars/2)))\n",
    "    line_styles = ['-', '--']\n",
    "    color_style_combinations = [(color, style)\n",
    "                                for color in colors for style in line_styles]\n",
    "\n",
    "    # Compute angle for each axis\n",
    "    angles = [n / float(num_vars) * 2 * math.pi for n in range(num_vars)]\n",
    "    angles += angles[:1]\n",
    "\n",
    "    # Initialize the radar plot\n",
    "    fig, ax = plt.subplots(figsize=(9, 9), subplot_kw=dict(polar=True))\n",
    "\n",
    "    for i, row in df.iterrows():\n",
    "        color, line_style = color_style_combinations[i % len(\n",
    "            color_style_combinations)]\n",
    "        values = row[metrics].values.flatten().tolist()\n",
    "        values += values[:1]\n",
    "        ax.plot(angles, values, linewidth=1,\n",
    "                linestyle=line_style, color=color, label=row['extractor_name'])\n",
    "        ax.fill(angles, values, alpha=0.1)\n",
    "\n",
    "    # Draw one axe per variable\n",
    "    plt.xticks(angles[:-1], categories, color='black', size=10)\n",
    "\n",
    "    # Set the baseline for the radial axis\n",
    "    ax.set_ylim(baseline, 1.0)\n",
    "\n",
    "    # Add a title\n",
    "    plt.title(title, size=20, color='black', y=1.1)\n",
    "\n",
    "    # Add legend\n",
    "    plt.legend(loc='upper right', bbox_to_anchor=(1.3, 1.1))\n",
    "\n",
    "    plt.show()"
   ]
  },
  {
   "cell_type": "markdown",
   "metadata": {},
   "source": [
    "## Heatmap of Correlations\n",
    "\n",
    "Create a heatmap to visualize the correlation between different metrics and combinations of parameters"
   ]
  },
  {
   "cell_type": "code",
   "execution_count": null,
   "metadata": {},
   "outputs": [],
   "source": [
    "corr = results_df[metrics_columns].corr(method='spearman') # ranks\n",
    "# corr = standard_subset_df[metrics_columns].corr(method='spearman')\n",
    "\n",
    "# Generate a heatmap\n",
    "plt.figure(figsize=(12, 8))\n",
    "sns.heatmap(corr, annot=True, cmap='coolwarm', vmin=-1, vmax=1)\n",
    "plt.title('Heatmap of Metrics Correlation')\n",
    "plt.show()"
   ]
  },
  {
   "cell_type": "markdown",
   "metadata": {},
   "source": [
    "## Grouped Bar Chart\n",
    "\n",
    "Create grouped bar charts to compare the performance of different combinations for specific metrics."
   ]
  },
  {
   "cell_type": "markdown",
   "metadata": {},
   "source": [
    "### Aggregate over all evaluated combinations"
   ]
  },
  {
   "cell_type": "code",
   "execution_count": null,
   "metadata": {},
   "outputs": [],
   "source": [
    "# average performance over all distance metrics, dimensionality reduction methods, and clustering algorithms\n",
    "plt.figure(figsize=(6, 3))\n",
    "sns.barplot(\n",
    "    data=results_df.sort_values(by=[OPTIMIZING_METRIC], ascending=False),\n",
    "    x='extractor_name',\n",
    "    y=OPTIMIZING_METRIC,\n",
    "    hue='img_norm'\n",
    ")\n",
    "# plt.title('Extractor Name and Clustering Method')\n",
    "plt.xlabel('Feature Extractor')\n",
    "plt.xticks(rotation=30, ha='right')\n",
    "plt.show()"
   ]
  },
  {
   "cell_type": "markdown",
   "metadata": {},
   "source": [
    "### Basic subset: euclidean distance, no reduction, k-means clustering"
   ]
  },
  {
   "cell_type": "code",
   "execution_count": null,
   "metadata": {},
   "outputs": [],
   "source": [
    "display(basic_subset_df)\n",
    "\n",
    "# plot precision@5 for each extractor model and image normalization\n",
    "plt.figure(figsize=(6, 2))\n",
    "sns.barplot(\n",
    "    data=basic_subset_df,\n",
    "    x='extractor_name',\n",
    "    y='precision@5',\n",
    "    hue='img_norm'\n",
    ")\n",
    "plt.xlabel('Feature Extractor')\n",
    "plt.ylim(0.85, 1.01)\n",
    "plt.legend(title='Image Normalization', loc='lower left')\n",
    "plt.xticks(rotation=30, ha='right')\n",
    "plt.xticks(None)\n",
    "plt.show()\n",
    "\n",
    "# ----------------------------------------------------------------\n",
    "\n",
    "plt.figure(figsize=(6, 2))\n",
    "sns.barplot(\n",
    "    data=basic_subset_df,\n",
    "    x='extractor_name',\n",
    "    y=OPTIMIZING_METRIC,\n",
    "    hue='img_norm'\n",
    ")\n",
    "plt.xlabel('Feature Extractor')\n",
    "plt.legend(title='Image Normalization', loc='lower left')\n",
    "plt.xticks(rotation=30, ha='right')\n",
    "plt.show()"
   ]
  },
  {
   "cell_type": "code",
   "execution_count": null,
   "metadata": {},
   "outputs": [],
   "source": [
    "# Create a figure with two subplots (axes) arranged vertically\n",
    "fig, (ax1, ax2) = plt.subplots(2, 1, figsize=(6, 4), sharex=True)\n",
    "\n",
    "# Plot on the first axes\n",
    "sns.barplot(\n",
    "    data=basic_subset_df,\n",
    "    x='extractor_name',\n",
    "    y='precision@5',\n",
    "    hue='img_norm',\n",
    "    ax=ax1\n",
    ")\n",
    "ax1.set_xlabel(None)  # Remove x-label for the first plot\n",
    "ax1.set_ylim(0.85, 1.01)\n",
    "ax1.legend(title='Image Normalization', loc='lower left')\n",
    "ax1.tick_params(axis='x', rotation=30)  # Rotate x-tick labels\n",
    "\n",
    "# Plot on the second axes\n",
    "sns.barplot(\n",
    "    data=basic_subset_df,\n",
    "    x='extractor_name',\n",
    "    y=OPTIMIZING_METRIC,\n",
    "    hue='img_norm',\n",
    "    ax=ax2\n",
    ")\n",
    "ax2.set_xlabel(None)  # Set x-label for the second plot\n",
    "ax2.legend().set_visible(False)  # Hide legend for the first plot\n",
    "ax2.tick_params(axis='x', rotation=30,)  # Rotate x-tick labels\n",
    "ax2.set_xticklabels(ax2.get_xticklabels(), ha='right')\n",
    "\n",
    "# Adjust layout\n",
    "plt.tight_layout()\n",
    "\n",
    "# Show the plot\n",
    "plt.show()"
   ]
  },
  {
   "cell_type": "markdown",
   "metadata": {},
   "source": [
    "### Standard subset: distance metric, dimansionality reduction, clustering are fixed like in the best-performing model"
   ]
  },
  {
   "cell_type": "code",
   "execution_count": null,
   "metadata": {},
   "outputs": [],
   "source": [
    "display(standard_subset_df)\n",
    "\n",
    "plt.figure(figsize=(6, 3))\n",
    "sns.barplot(\n",
    "    data=standard_subset_df,\n",
    "    x='extractor_name',\n",
    "    y=OPTIMIZING_METRIC,\n",
    "    hue='img_norm'\n",
    ")\n",
    "# plt.title('Clustering Performance Extractor Name and Clustering Method')\n",
    "plt.xlabel('Feature Extractor')\n",
    "plt.xticks(rotation=30, ha='right')\n",
    "plt.legend(title='Image Normalization', loc='lower left')\n",
    "plt.show()"
   ]
  },
  {
   "cell_type": "markdown",
   "metadata": {},
   "source": [
    "### Take best combination of (distance, dimensionality reduction, clustering) for each normalization-extractor combination"
   ]
  },
  {
   "cell_type": "code",
   "execution_count": null,
   "metadata": {},
   "outputs": [],
   "source": [
    "tmp_df = results_df.loc[\n",
    "    results_df.groupby(['extractor_name', 'img_norm'])[\n",
    "        OPTIMIZING_METRIC].idxmax()\n",
    "].sort_values(by=[OPTIMIZING_METRIC], ascending=False)\n",
    "\n",
    "display(tmp_df)\n",
    "\n",
    "# best performance over all distance metrics, dimensionality reduction methods, and clustering algorithms\n",
    "plt.figure(figsize=(6, 3))\n",
    "sns.barplot(\n",
    "    data=tmp_df,\n",
    "    x='extractor_name',\n",
    "    y=OPTIMIZING_METRIC,\n",
    "    hue='img_norm'\n",
    ")\n",
    "plt.xlabel('Feature Extractor')\n",
    "plt.xticks(rotation=30, ha='right')\n",
    "plt.legend(title='Image Normalization', loc='lower left')\n",
    "plt.show()"
   ]
  },
  {
   "cell_type": "markdown",
   "metadata": {},
   "source": [
    "## Radar Chart\n",
    "\n",
    "Radar charts can help compare multiple metrics for a specific combination of parameters."
   ]
  },
  {
   "cell_type": "markdown",
   "metadata": {},
   "source": [
    "### Basic subset (euclidean, no reduction, k-means) with best-performing image normalisation for each extractor"
   ]
  },
  {
   "cell_type": "code",
   "execution_count": null,
   "metadata": {},
   "outputs": [],
   "source": [
    "tmp_df = basic_subset_df.loc[\n",
    "    basic_subset_df.groupby(['extractor_name'])[OPTIMIZING_METRIC].idxmax()\n",
    "    ].sort_values(by=[OPTIMIZING_METRIC], ascending=False)\n",
    "\n",
    "display(tmp_df)\n",
    "\n",
    "# Create radar chart for best performance data\n",
    "create_radar_chart(\n",
    "    tmp_df,\n",
    "    metric_columns_wo_precision,\n",
    "    title='Clustering Metrics: Best-performing Image Normalization',\n",
    "    baseline=0.4\n",
    ")\n",
    "\n",
    "plt.figure(figsize=(7.5, 3))\n",
    "parallel_coordinates(\n",
    "    tmp_df,\n",
    "    'extractor_name',\n",
    "    cols=metric_columns_wo_precision,\n",
    "    color=plt.cm.Set1.colors,\n",
    ")\n",
    "plt.title('Clustering Metrics: Best-performing Image Normalization')\n",
    "plt.xticks(rotation=30, ha='right')\n",
    "plt.legend(bbox_to_anchor=(0.01, 0.01, 1.05, 1.05), #loc='lower right',\n",
    "           ncol=3, borderaxespad=0.)\n",
    "plt.ylim(0.15, 1.0)\n",
    "plt.show()\n",
    "\n",
    "\n",
    "plot_precision_bar_chart(tmp_df, title='Precision by Extractor: Best-performing Image Normalization')"
   ]
  },
  {
   "cell_type": "markdown",
   "metadata": {},
   "source": [
    "### Basic subset (euclidean, no reduction, k-means) with ImageNet image normalization"
   ]
  },
  {
   "cell_type": "code",
   "execution_count": null,
   "metadata": {},
   "outputs": [],
   "source": [
    "img_norm = 'imagenet'\n",
    "assert img_norm in ALL_IMG_NORMS\n",
    "\n",
    "basic_subset_img_norm_restricted = basic_subset & (\n",
    "    results_df['img_norm'] == img_norm\n",
    "    )\n",
    "basic_subset_img_norm_restricted_df = results_df[basic_subset_img_norm_restricted].sort_values(\n",
    "    by=[OPTIMIZING_METRIC], ascending=False, ignore_index=True)\n",
    "\n",
    "display(basic_subset_img_norm_restricted_df)\n",
    "\n",
    "# Create radar chart for best performance data\n",
    "create_radar_chart(\n",
    "    basic_subset_img_norm_restricted_df,\n",
    "    metrics_columns,\n",
    "    title=f'Clustering Metrics: {img_norm} Image Normalization',\n",
    "    baseline=0.3\n",
    ")\n",
    "\n",
    "# ------------------------------------------------------------------------\n",
    "\n",
    "\n",
    "\n",
    "plot_precision_bar_chart(basic_subset_img_norm_restricted_df, title='Precision by Extractor: ImageNet Normalization')\n",
    "\n",
    "# plot precision@5 only as a bar chart\n",
    "plt.figure(figsize=(6, 3))\n",
    "sns.barplot(\n",
    "    data=basic_subset_img_norm_restricted_df,\n",
    "    x='extractor_name',\n",
    "    y='precision@5'\n",
    ")\n",
    "plt.ylim(0.85, 1.01)\n",
    "plt.title('Precision@5 by Extractor: ImageNet Normalization')\n",
    "plt.xlabel('Feature Extractor')\n",
    "plt.ylabel('Precision@5')\n",
    "plt.xticks(rotation=30, ha='right')\n",
    "plt.show()"
   ]
  },
  {
   "cell_type": "code",
   "execution_count": null,
   "metadata": {},
   "outputs": [],
   "source": []
  }
 ],
 "metadata": {
  "kernelspec": {
   "display_name": "lc25k-cleaning",
   "language": "python",
   "name": "python3"
  },
  "language_info": {
   "codemirror_mode": {
    "name": "ipython",
    "version": 3
   },
   "file_extension": ".py",
   "mimetype": "text/x-python",
   "name": "python",
   "nbconvert_exporter": "python",
   "pygments_lexer": "ipython3",
   "version": "3.11.9"
  }
 },
 "nbformat": 4,
 "nbformat_minor": 2
}
